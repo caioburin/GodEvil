{
 "cells": [
  {
   "cell_type": "code",
   "execution_count": 1,
   "metadata": {},
   "outputs": [],
   "source": [
    "# Natural Language Processing\n",
    "\n",
    "# Importing the libraries\n",
    "import numpy as np\n",
    "import matplotlib.pyplot as plt\n",
    "import pandas as pd\n",
    "from wordcloud import WordCloud,STOPWORDS\n"
   ]
  },
  {
   "cell_type": "code",
   "execution_count": 2,
   "metadata": {},
   "outputs": [],
   "source": [
    "# Importing the dataset\n",
    "dataset = pd.read_csv('bible.txt', delimiter = \"\\t\", quoting = 3)"
   ]
  },
  {
   "cell_type": "code",
   "execution_count": 3,
   "metadata": {},
   "outputs": [],
   "source": [
    "#bad = [line.rstrip('\\n') for line in open('bad.txt')]\n",
    "#good = [line.rstrip('\\n') for line in open('good.txt')]\n",
    "\n",
    "bad = pd.read_csv('bad.txt', delimiter = \"\\n\", quoting = 3)\n",
    "good = pd.read_csv('good.txt', delimiter = \"\\n\", quoting = 3)"
   ]
  },
  {
   "cell_type": "code",
   "execution_count": 4,
   "metadata": {},
   "outputs": [],
   "source": [
    "dataset['book'] = pd.DataFrame(dataset.book.str.split().tolist(),\n",
    "                                   columns = ['book','verse','2', '3'])"
   ]
  },
  {
   "cell_type": "code",
   "execution_count": 5,
   "metadata": {},
   "outputs": [
    {
     "name": "stdout",
     "output_type": "stream",
     "text": [
      "[nltk_data] Downloading package stopwords to /home/caio/nltk_data...\n",
      "[nltk_data]   Package stopwords is already up-to-date!\n"
     ]
    }
   ],
   "source": [
    "# Cleaning the words in bible.txt\n",
    "import re\n",
    "import nltk\n",
    "nltk.download('stopwords')\n",
    "from nltk.corpus import stopwords\n",
    "from nltk.stem.porter import PorterStemmer\n",
    "corpus = []\n",
    "for i in range(0, len(dataset)):\n",
    "    review = re.sub('[^a-zA-Z]', ' ', dataset['text'][i])\n",
    "    review = review.lower()\n",
    "    review = review.split()\n",
    "    ps = PorterStemmer()\n",
    "    review = [ps.stem(word) for word in review if not word in set(stopwords.words('english'))]\n",
    "    review = ' '.join(review)\n",
    "    corpus.append(review)"
   ]
  },
  {
   "cell_type": "code",
   "execution_count": 7,
   "metadata": {},
   "outputs": [],
   "source": [
    "#cleaning the Bad and Good words\n",
    "bad_corpus = []\n",
    "for i in range(0, len(bad)):\n",
    "    review = re.sub('[^a-zA-Z]', ' ', bad['word'][i])\n",
    "    review = review.lower()\n",
    "    review = review.split()\n",
    "    ps = PorterStemmer()\n",
    "    review = [ps.stem(word) for word in review if not word in set(stopwords.words('english'))]\n",
    "    review = ' '.join(review)\n",
    "    bad_corpus.append(review)\n",
    "bad_corpus = list(set(bad_corpus))\n",
    "\n",
    "good_corpus = []\n",
    "for i in range(0, len(good)):\n",
    "    review = re.sub('[^a-zA-Z]', ' ', good['word'][i])\n",
    "    review = review.lower()\n",
    "    review = review.split()\n",
    "    ps = PorterStemmer()\n",
    "    review = [ps.stem(word) for word in review if not word in set(stopwords.words('english'))]\n",
    "    review = ' '.join(review)\n",
    "    good_corpus.append(review)\n",
    "good_corpus = list(set(good_corpus))"
   ]
  },
  {
   "cell_type": "code",
   "execution_count": 8,
   "metadata": {},
   "outputs": [],
   "source": [
    "#Counting good words in every sentence\n",
    "good_list = []\n",
    "for sentence in corpus:\n",
    "    score = 0\n",
    "    for word in good_corpus:\n",
    "        if word in sentence:\n",
    "            score = score + 1\n",
    "    good_list.append(score)"
   ]
  },
  {
   "cell_type": "code",
   "execution_count": 9,
   "metadata": {},
   "outputs": [],
   "source": [
    "#Counting bad words in every sentence\n",
    "bad_list = []\n",
    "for sentence in corpus:\n",
    "    score = 0\n",
    "    for word in bad_corpus:\n",
    "        if word in sentence:\n",
    "            score = score + 1\n",
    "    bad_list.append(score)"
   ]
  },
  {
   "cell_type": "code",
   "execution_count": 51,
   "metadata": {},
   "outputs": [],
   "source": [
    "import matplotlib.pyplot as plt"
   ]
  },
  {
   "cell_type": "code",
   "execution_count": null,
   "metadata": {},
   "outputs": [],
   "source": [
    "#def wordcloud_draw(dataset, color = 'black'):\n",
    "str1 = ''.join(good_corpus)\n",
    "wordcloud = WordCloud(\n",
    "                  background_color='black',\n",
    "                  width=2500,\n",
    "                  height=2000\n",
    "                 ).generate(str1)\n",
    "plt.figure(1,figsize=(13, 13))\n",
    "plt.imshow(wordcloud)\n",
    "plt.axis('off')\n",
    "plt.show()\n"
   ]
  },
  {
   "cell_type": "code",
   "execution_count": null,
   "metadata": {},
   "outputs": [],
   "source": [
    "#def wordcloud_draw(dataset, color = 'black'):\n",
    "str2 = ''.join(bad_corpus)\n",
    "wordcloud = WordCloud(\n",
    "                  background_color='black',\n",
    "                  width=2500,\n",
    "                  height=2000\n",
    "                 ).generate(str2)\n",
    "plt.figure(1,figsize=(13, 13))\n",
    "plt.imshow(wordcloud)\n",
    "plt.axis('off')\n",
    "plt.show()"
   ]
  },
  {
   "cell_type": "code",
   "execution_count": 10,
   "metadata": {},
   "outputs": [],
   "source": [
    "dataset['good'] = good_list\n",
    "dataset['bad'] = bad_list"
   ]
  },
  {
   "cell_type": "code",
   "execution_count": 11,
   "metadata": {},
   "outputs": [],
   "source": [
    "dataset_ratio= dataset.groupby(['book']).sum()"
   ]
  },
  {
   "cell_type": "code",
   "execution_count": 12,
   "metadata": {},
   "outputs": [],
   "source": [
    "dataset_ratio['ratio'] = dataset_ratio.bad / dataset_ratio.good"
   ]
  },
  {
   "cell_type": "code",
   "execution_count": 30,
   "metadata": {},
   "outputs": [],
   "source": [
    "dataset_ratio = dataset_ratio.reset_index()"
   ]
  },
  {
   "cell_type": "code",
   "execution_count": 41,
   "metadata": {},
   "outputs": [],
   "source": [
    "dataset_ratio.sort_values(['ratio'], ascending=True, inplace=True)"
   ]
  },
  {
   "cell_type": "code",
   "execution_count": 48,
   "metadata": {},
   "outputs": [
    {
     "data": {
      "image/png": "[encoded data removed]",
      "text/plain": [
       "<matplotlib.figure.Figure at 0x7f824cfbf5f8>"
      ]
     },
     "metadata": {},
     "output_type": "display_data"
    }
   ],
   "source": [
    "y_pos = np.arange(len(dataset_ratio.book))\n",
    "plt.figure(figsize=(9,12))\n",
    "plt.barh(y_pos, dataset_ratio.ratio, align='center', alpha=0.5)\n",
    "plt.yticks(y_pos, dataset_ratio.book)\n",
    "plt.axvline(1, color='b', linestyle='dashed', linewidth=2)\n",
    "plt.title('Ratio between Bad vs Good words')\n",
    "plt.xlabel('Ratio')\n",
    "plt.ylabel('Book in the Bible')\n",
    " \n",
    "plt.show()"
   ]
  },
  {
   "cell_type": "code",
   "execution_count": 23,
   "metadata": {},
   "outputs": [
    {
     "data": {
      "text/html": [
       "<div>\n",
       "<style>\n",
       "    .dataframe thead tr:only-child th {\n",
       "        text-align: right;\n",
       "    }\n",
       "\n",
       "    .dataframe thead th {\n",
       "        text-align: left;\n",
       "    }\n",
       "\n",
       "    .dataframe tbody tr th {\n",
       "        vertical-align: top;\n",
       "    }\n",
       "</style>\n",
       "<table border=\"1\" class=\"dataframe\">\n",
       "  <thead>\n",
       "    <tr style=\"text-align: right;\">\n",
       "      <th></th>\n",
       "      <th>good</th>\n",
       "      <th>bad</th>\n",
       "      <th>ratio</th>\n",
       "    </tr>\n",
       "    <tr>\n",
       "      <th>book</th>\n",
       "      <th></th>\n",
       "      <th></th>\n",
       "      <th></th>\n",
       "    </tr>\n",
       "  </thead>\n",
       "  <tbody>\n",
       "    <tr>\n",
       "      <th>Zephaniah</th>\n",
       "      <td>129</td>\n",
       "      <td>248</td>\n",
       "      <td>1.922481</td>\n",
       "    </tr>\n",
       "  </tbody>\n",
       "</table>\n",
       "</div>"
      ],
      "text/plain": [
       "           good  bad     ratio\n",
       "book                          \n",
       "Zephaniah   129  248  1.922481"
      ]
     },
     "execution_count": 23,
     "metadata": {},
     "output_type": "execute_result"
    }
   ],
   "source": [
    "dataset_ratio[dataset_ratio.ratio==max(dataset_ratio.ratio)]"
   ]
  },
  {
   "cell_type": "code",
   "execution_count": null,
   "metadata": {},
   "outputs": [],
   "source": []
  }
 ],
 "metadata": {
  "kernelspec": {
   "display_name": "Python 3",
   "language": "python",
   "name": "python3"
  },
  "language_info": {
   "codemirror_mode": {
    "name": "ipython",
    "version": 3
   },
   "file_extension": ".py",
   "mimetype": "text/x-python",
   "name": "python",
   "nbconvert_exporter": "python",
   "pygments_lexer": "ipython3",
   "version": "3.6.0"
  }
 },
 "nbformat": 4,
 "nbformat_minor": 2
}
